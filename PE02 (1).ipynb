{
  "cells": [
    {
      "cell_type": "code",
      "execution_count": 1,
      "metadata": {
        "colab": {
          "base_uri": "https://localhost:8080/"
        },
        "id": "C5Ox9HIcQCue",
        "outputId": "8e20dc4a-1c41-45c1-dd72-361bf7716d7b"
      },
      "outputs": [
        {
          "name": "stdout",
          "output_type": "stream",
          "text": [
            "Normalized softmax: [0.117, 0.143, 0.236, 0.117, 0.175, 0.213]\n",
            "Sum of softmax: 1.0\n",
            "Softmax is valid: True\n"
          ]
        }
      ],
      "source": [
        "import math\n",
        "\n",
        "y = [0.5, 0.7, 1.2, 0.5, 0.9, 1.1]\n",
        "\n",
        "y_exp = [math.exp(i) for i in y]\n",
        "sum_exp = sum(y_exp)\n",
        "\n",
        "softmax = [round(i / sum_exp, 3) for i in y_exp]\n",
        "\n",
        "print(\"Normalized softmax:\", softmax)\n",
        "print(\"Sum of softmax:\", round(sum(softmax), 1))\n",
        "\n",
        "def is_softmax_valid(output):\n",
        "    in_range = all(0 <= v <= 1 for v in output)\n",
        "    approx_sum = abs(sum(output) - 1.0) <= 0.01\n",
        "    return in_range and approx_sum\n",
        "\n",
        "print(\"Softmax is valid:\", is_softmax_valid(softmax))\n"
      ]
    }
  ],
  "metadata": {
    "colab": {
      "provenance": []
    },
    "kernelspec": {
      "display_name": "Python 3",
      "name": "python3"
    },
    "language_info": {
      "codemirror_mode": {
        "name": "ipython",
        "version": 3
      },
      "file_extension": ".py",
      "mimetype": "text/x-python",
      "name": "python",
      "nbconvert_exporter": "python",
      "pygments_lexer": "ipython3",
      "version": "3.12.1"
    }
  },
  "nbformat": 4,
  "nbformat_minor": 0
}
